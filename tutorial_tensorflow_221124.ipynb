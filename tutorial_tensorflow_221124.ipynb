{
 "cells": [
  {
   "cell_type": "code",
   "execution_count": 11,
   "metadata": {
    "scrolled": false
   },
   "outputs": [],
   "source": [
    "import os\n",
    "import numpy as np\n",
    "import tqdm\n",
    "import random\n",
    "import pathlib\n",
    "import itertools\n",
    "import collections\n",
    "\n",
    "import cv2 # process video files\n",
    "import einops # perform more complex tensor operations\n",
    "import remotezip as rz\n",
    "\n",
    "import seaborn as sns\n",
    "import matplotlib.pyplot as plt\n",
    "\n",
    "import tensorflow as tf\n",
    "import keras\n",
    "from keras import layers"
   ]
  },
  {
   "cell_type": "markdown",
   "metadata": {},
   "source": [
    "## Load and Preprocess Video Data"
   ]
  },
  {
   "cell_type": "code",
   "execution_count": 19,
   "metadata": {},
   "outputs": [],
   "source": [
    "# List the files in each class of the dataset given a URL with the zip file\n",
    "def list_files_from_zip_url(zip_url):\n",
    "    files = []\n",
    "    with rz.RemoteZip(zip_url) as zip:\n",
    "        for zip_info in zip.infolist():\n",
    "            files.append(zip_info.filename)\n",
    "    return files\n",
    "\n",
    "# Retrieve the name of the class given a filename\n",
    "def get_class(fname):\n",
    "    return fname.split('_')[-3]\n",
    "\n",
    "# Retrieve the files that belong to each class\n",
    "def get_files_per_class(files):\n",
    "    files_for_class = collections.defaultdict(list)\n",
    "    for fname in files:\n",
    "        class_name = get_class(fname)\n",
    "        files_for_class[class_name].append(fname)    \n",
    "    return files_for_class\n",
    "\n",
    "# Download the contents of the zip file from the zip URL\n",
    "def download_from_zip(zip_url, to_dir, file_names):\n",
    "    with rz.RemoteZip(zip_url) as zip:\n",
    "        for fn in tqdm.tqdm(file_names):\n",
    "            class_name = get_class(fn)\n",
    "            zip.extract(fn, str(to_dir / class_name))\n",
    "            unzipped_file = to_dir / class_name / fn\n",
    "\n",
    "            fn = pathlib.Path(fn).parts[-1]\n",
    "            output_file = to_dir / class_name / fn\n",
    "            unzipped_file.rename(output_file)\n",
    "\n",
    "# Returns the list of files belonging to a subset of data as well as the remainder of files that need to be downloaded\n",
    "def split_class_lists(files_for_class, count):\n",
    "    split_files = []\n",
    "    remainder = {}\n",
    "    for cls in files_for_class:\n",
    "        split_files.extend(files_for_class[cls][:count])\n",
    "        remainder[cls] = files_for_class[cls][count:]\n",
    "    return split_files, remainder\n",
    "\n",
    "# Download a subset of the UFC101 dataset and split them into various parts, such as training, validation, and test\n",
    "def download_ufc_101_subset(zip_url, num_classes, splits, download_dir):\n",
    "    files = list_files_from_zip_url(zip_url)\n",
    "    for f in files:\n",
    "        path = os.path.normpath(f)\n",
    "        tokens = path.split(os.sep)\n",
    "        if len(tokens) <= 2:\n",
    "            files.remove(f) # Remove that item from the list if it does not have a filename\n",
    "\n",
    "    files_for_class = get_files_per_class(files)\n",
    "\n",
    "    classes = list(files_for_class.keys())[:num_classes]\n",
    "\n",
    "    for cls in classes:\n",
    "        random.shuffle(files_for_class[cls])\n",
    "\n",
    "    # Only use the number of classes you want in the dictionary\n",
    "    files_for_class = {x: files_for_class[x] for x in classes}\n",
    "\n",
    "    dirs = {}\n",
    "    for split_name, split_count in splits.items():\n",
    "        print(split_name, \":\")\n",
    "        split_dir = download_dir / split_name\n",
    "        split_files, files_for_class = split_class_lists(files_for_class, split_count)\n",
    "        download_from_zip(zip_url, split_dir, split_files)\n",
    "        dirs[split_name] = split_dir\n",
    "\n",
    "    return dirs"
   ]
  },
  {
   "cell_type": "code",
   "execution_count": 20,
   "metadata": {},
   "outputs": [
    {
     "name": "stdout",
     "output_type": "stream",
     "text": [
      "train :\n"
     ]
    },
    {
     "name": "stderr",
     "output_type": "stream",
     "text": [
      "100%|████████████████████████████████████████████████████████████████████████████████| 300/300 [03:47<00:00,  1.32it/s]\n"
     ]
    },
    {
     "name": "stdout",
     "output_type": "stream",
     "text": [
      "val :\n"
     ]
    },
    {
     "name": "stderr",
     "output_type": "stream",
     "text": [
      "100%|████████████████████████████████████████████████████████████████████████████████| 100/100 [00:58<00:00,  1.70it/s]\n"
     ]
    },
    {
     "name": "stdout",
     "output_type": "stream",
     "text": [
      "test :\n"
     ]
    },
    {
     "name": "stderr",
     "output_type": "stream",
     "text": [
      "100%|████████████████████████████████████████████████████████████████████████████████| 100/100 [00:58<00:00,  1.71it/s]\n"
     ]
    }
   ],
   "source": [
    "URL = \"https://storage.googleapis.com/thumos14_files/UCF101_videos.zip\"\n",
    "download_dir = pathlib.Path(\"./UCF101_subset/\")\n",
    "subset_paths = download_ufc_101_subset(URL,\n",
    "                                       num_classes = 10,\n",
    "                                       splits = {\"train\": 30, \"val\": 10, \"test\": 10},\n",
    "                                       download_dir = download_dir)"
   ]
  },
  {
   "cell_type": "code",
   "execution_count": null,
   "metadata": {},
   "outputs": [],
   "source": []
  }
 ],
 "metadata": {
  "kernelspec": {
   "display_name": "Python 3 (ipykernel)",
   "language": "python",
   "name": "python3"
  },
  "language_info": {
   "codemirror_mode": {
    "name": "ipython",
    "version": 3
   },
   "file_extension": ".py",
   "mimetype": "text/x-python",
   "name": "python",
   "nbconvert_exporter": "python",
   "pygments_lexer": "ipython3",
   "version": "3.9.6"
  }
 },
 "nbformat": 4,
 "nbformat_minor": 4
}
