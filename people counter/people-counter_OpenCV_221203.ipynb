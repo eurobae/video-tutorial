{
 "cells": [
  {
   "cell_type": "markdown",
   "id": "fc5e6138",
   "metadata": {},
   "source": [
    "## Introduction"
   ]
  },
  {
   "cell_type": "markdown",
   "id": "473dbbde",
   "metadata": {},
   "source": [
    "* Phase 1. Detecting (with the Centroid Tracking Algorithm)\n",
    "    - During the detection phase we are running our computationally more expensive object detector to (1) detect if new objects have entered our view, and (2) see if we can find objects that were “lost” during the tracking phase. For each detected object we create or update an object tracker with the new bounding box coordinates. Since our object detector is more computationally expensive we only run this phase once every N frames.\n",
    "\n",
    "\n",
    "* Phase 2. Tracking (with a MobileNet Single Shot Detector (SSD))\n",
    "    - When we are not in the “detecting” phase we are in the “tracking” phase. For each of our detected objects, we create an object tracker to track the object as it moves around the frame. Our object tracker should be faster and more efficient than the object detector. We’ll continue tracking until we’ve reached the N-th frame and then re-run our object detector. The entire process then repeats."
   ]
  },
  {
   "cell_type": "markdown",
   "id": "e9613e42",
   "metadata": {},
   "source": [
    "<table>\n",
    "    <tr>\n",
    "        <td><img src=\"https://pyimagesearch.com/wp-content/uploads/2018/07/simple_object_tracking_step1.png\" width=\"300\"></td>\n",
    "        <td><img src=\"https://pyimagesearch.com/wp-content/uploads/2018/07/simple_object_tracking_step2.png\" width=\"300\"></td>\n",
    "    </tr>\n",
    "    <tr>\n",
    "        <td><img src=\"https://pyimagesearch.com/wp-content/uploads/2018/07/simple_object_tracking_step3.png\" width=\"300\"></td>\n",
    "        <td><img src=\"https://pyimagesearch.com/wp-content/uploads/2018/07/simple_object_tracking_step4.png\" width=\"300\"></td>\n",
    "    </tr>\n",
    "</table>"
   ]
  },
  {
   "cell_type": "code",
   "execution_count": 1,
   "id": "b0dbe99e",
   "metadata": {},
   "outputs": [],
   "source": [
    "import numpy as np\n",
    "import argparse\n",
    "import imutils\n",
    "import time\n",
    "import dlib\n",
    "import cv2\n",
    "\n",
    "from scipy.spatial import distance as dist\n",
    "\n",
    "import easydict\n",
    "from collections import OrderedDict"
   ]
  },
  {
   "cell_type": "markdown",
   "id": "592600b2",
   "metadata": {},
   "source": [
    "## Centroid Tracker"
   ]
  },
  {
   "cell_type": "markdown",
   "id": "ee1ab230",
   "metadata": {},
   "source": [
    "### Motivating Example"
   ]
  },
  {
   "cell_type": "code",
   "execution_count": 3,
   "id": "70dcc6b7",
   "metadata": {},
   "outputs": [],
   "source": [
    "np.random.seed(123)"
   ]
  },
  {
   "cell_type": "code",
   "execution_count": 4,
   "id": "a90bb7da",
   "metadata": {},
   "outputs": [
    {
     "data": {
      "text/plain": [
       "array([[0.69646919, 0.28613933],\n",
       "       [0.22685145, 0.55131477]])"
      ]
     },
     "execution_count": 4,
     "metadata": {},
     "output_type": "execute_result"
    }
   ],
   "source": [
    "# old: there are two existing objects\n",
    "objectCentroids = np.random.uniform(size=(2,2))\n",
    "objectCentroids"
   ]
  },
  {
   "cell_type": "code",
   "execution_count": 5,
   "id": "5a0b60b8",
   "metadata": {},
   "outputs": [
    {
     "data": {
      "text/plain": [
       "array([[0.71946897, 0.42310646],\n",
       "       [0.9807642 , 0.68482974],\n",
       "       [0.4809319 , 0.39211752]])"
      ]
     },
     "execution_count": 5,
     "metadata": {},
     "output_type": "execute_result"
    }
   ],
   "source": [
    "# new: three objects are detected\n",
    "inputCentroids = np.random.uniform(size=(3,2))\n",
    "inputCentroids"
   ]
  },
  {
   "cell_type": "code",
   "execution_count": 6,
   "id": "50a4d35d",
   "metadata": {},
   "outputs": [
    {
     "data": {
      "text/plain": [
       "array([[0.13888478, 0.489671  , 0.24018263],\n",
       "       [0.50902789, 0.76564396, 0.29983435]])"
      ]
     },
     "execution_count": 6,
     "metadata": {},
     "output_type": "execute_result"
    }
   ],
   "source": [
    "D = dist.cdist(objectCentroids, inputCentroids)\n",
    "D"
   ]
  },
  {
   "cell_type": "code",
   "execution_count": 7,
   "id": "d29f3960",
   "metadata": {},
   "outputs": [
    {
     "data": {
      "text/plain": [
       "array([0, 1])"
      ]
     },
     "execution_count": 7,
     "metadata": {},
     "output_type": "execute_result"
    }
   ],
   "source": [
    "rows = D.min(axis=1).argsort()\n",
    "rows"
   ]
  },
  {
   "cell_type": "code",
   "execution_count": 8,
   "id": "92c99823",
   "metadata": {},
   "outputs": [
    {
     "data": {
      "text/plain": [
       "array([0, 2])"
      ]
     },
     "execution_count": 8,
     "metadata": {},
     "output_type": "execute_result"
    }
   ],
   "source": [
    "cols = D.argmin(axis=1)[rows]\n",
    "cols"
   ]
  },
  {
   "cell_type": "code",
   "execution_count": 9,
   "id": "147e7ec4",
   "metadata": {},
   "outputs": [
    {
     "data": {
      "text/plain": [
       "[(0, 0), (1, 2)]"
      ]
     },
     "execution_count": 9,
     "metadata": {},
     "output_type": "execute_result"
    }
   ],
   "source": [
    "list(zip(rows, cols))"
   ]
  },
  {
   "cell_type": "markdown",
   "id": "57de29d7",
   "metadata": {},
   "source": [
    "- D[0,0] implies that the first existing object will be matched with the first input centroid.\n",
    "- D[1,2] implies that the second existing object will be matched with the thrid input centroid."
   ]
  },
  {
   "cell_type": "markdown",
   "id": "038ea3f5",
   "metadata": {},
   "source": [
    "### Implementation"
   ]
  },
  {
   "cell_type": "code",
   "execution_count": 32,
   "id": "c9c786f1",
   "metadata": {},
   "outputs": [],
   "source": [
    "class CentroidTracker():\n",
    "    def __init__(self, maxDisappeared=30):\n",
    "        self.nextObjectID = 0\n",
    "        self.objects = OrderedDict() # centroid\n",
    "        self.disappeared = OrderedDict() # number of consecutive frames marked as disappeared\n",
    "        \n",
    "        # store the number of maximum consecutive frames a given object is allowed\n",
    "        # to be marked as \"disappeared\" -> deregister the object from tracking\n",
    "        self.maxDisappeared = maxDisappeared\n",
    "        \n",
    "    def register(self, centroid):\n",
    "        self.objects[self.nextObjectID] = centroid\n",
    "        self.disappeared[self.nextObjectID] = 0\n",
    "        self.nextObjectID += 1\n",
    "        \n",
    "    def deregister(self, objectID):\n",
    "        del self.objects[objectID]\n",
    "        del self.disappeared[objectID]\n",
    "        \n",
    "    def update(self, rects):\n",
    "        # if the list of input bounding box rectangles is empty\n",
    "        if len(rects) == 0:\n",
    "            for objectID in list(self.disappeared.keys()):\n",
    "                self.disappeared[objectID] += 1\n",
    "                \n",
    "                if self.disappeared[objectID] > self.maxDisappeared:\n",
    "                    self.deregister(objectID)\n",
    "                    \n",
    "            return self.objects\n",
    "            \n",
    "        # initialize an array of input centroids for the current frame\n",
    "        # and loop over the bounding box rectangles\n",
    "        inputCentroids = np.zeros((len(rects), 2), dtype=\"int\")\n",
    "        for (i, (startX, startY, endX, endY)) in enumerate(rects):\n",
    "            cX = int((startX + endX) / 2.0)\n",
    "            cY = int((startY + endY) / 2.0)\n",
    "            inputCentroids[i] = (cX, cY)\n",
    "            \n",
    "        # when currently not tracking any objects -> register\n",
    "        if len(self.objects) == 0:\n",
    "            for i in range(0, len(inputCentroids)):\n",
    "                self.register(inputCentroids[i])\n",
    "        # otherwise\n",
    "        else:\n",
    "            objectIDs = list(self.objects.keys())\n",
    "            objectCentroids = list(self.objects.values())\n",
    "            \n",
    "            # compute the distance between each pair of object centorids and input centroids\n",
    "            # and find the smallest value\n",
    "            print(\"objects:\", self.objects); print(\"\\n\")\n",
    "            print(\"exist:\" ,objectCentroids); print(\"\\n\") #############################################\n",
    "            print(\"new:\", inputCentroids); print(\"\\n\")\n",
    "            D = dist.cdist(np.array(objectCentroids), inputCentroids)\n",
    "            print(\"D:\", D); print(\"\\n\\n\")\n",
    "            rows = D.min(axis=1).argsort()\n",
    "            cols = D.argmin(axis=1)[rows]\n",
    "            \n",
    "            # \n",
    "            usedRows, usedCols = set(), set()\n",
    "            for (row, col) in zip(rows, cols):\n",
    "                if row in usedRows or col in usedCols:\n",
    "                    continue\n",
    "                \n",
    "                objectID = objectIDs[row]\n",
    "                self.objects[objectID] = inputCentroids[cols]\n",
    "                self.disappeared[objectID] = 0\n",
    "                \n",
    "                usedRows.add(row)\n",
    "                usedCols.add(col)\n",
    "            \n",
    "            #\n",
    "            unusedRows = set(range(0, D.shape[0])).difference(usedRows)\n",
    "            unusedCols = set(range(0, D.shape[1])).difference(usedCols)\n",
    "            \n",
    "            # if the number of object centroids is equal or greater than the number of input centroids\n",
    "            # check if some of these objects have potentially disappeared\n",
    "            if D.shape[0] >= D.shape[1]:\n",
    "                for row in unusedRows:\n",
    "                    objectID = objectIDs[row]\n",
    "                    self.disappeared[objectID] += 1\n",
    "                    \n",
    "                    if self.disappeared[objectID] > self.maxDisappeared:\n",
    "                        self.deregister(objectID)\n",
    "            \n",
    "            else:\n",
    "                for col in unusedCols:\n",
    "                    self.register(inputCentroids[col])\n",
    "                    \n",
    "        return self.objects"
   ]
  },
  {
   "cell_type": "code",
   "execution_count": 33,
   "id": "7729b7f4",
   "metadata": {},
   "outputs": [],
   "source": [
    "ct = CentroidTracker()"
   ]
  },
  {
   "cell_type": "code",
   "execution_count": 34,
   "id": "0eca0230",
   "metadata": {},
   "outputs": [],
   "source": [
    "# net = cv2.dnn.readNetFromCaffe(args.prototxt, args.model)\n",
    "net = cv2.dnn.readNetFromTensorflow(\"./MobileNetSSD_v3_large_coco/frozen_inference_graph.pb\",\n",
    "                                    \"./MobileNetSSD_v3_large_coco/ssd_mobilenet_v3_large_coco_2020_01_14.pbtxt\")\n",
    "confidence = 0.5"
   ]
  },
  {
   "cell_type": "code",
   "execution_count": 35,
   "id": "c30aa026",
   "metadata": {
    "scrolled": true
   },
   "outputs": [
    {
     "name": "stdout",
     "output_type": "stream",
     "text": [
      "objects: OrderedDict([(0, array([316, 130])), (1, array([315, 146]))])\n",
      "\n",
      "\n",
      "exist: [array([316, 130]), array([315, 146])]\n",
      "\n",
      "\n",
      "new: [[316 130]\n",
      " [315 146]]\n",
      "\n",
      "\n",
      "D: [[ 0.         16.03121954]\n",
      " [16.03121954  0.        ]]\n",
      "\n",
      "\n",
      "\n",
      "objects: OrderedDict([(0, array([[316, 130],\n",
      "       [315, 146]])), (1, array([[316, 130],\n",
      "       [315, 146]]))])\n",
      "\n",
      "\n",
      "exist: [array([[316, 130],\n",
      "       [315, 146]]), array([[316, 130],\n",
      "       [315, 146]])]\n",
      "\n",
      "\n",
      "new: [[314 129]]\n",
      "\n",
      "\n"
     ]
    },
    {
     "ename": "ValueError",
     "evalue": "XA must be a 2-dimensional array.",
     "output_type": "error",
     "traceback": [
      "\u001b[1;31m---------------------------------------------------------------------------\u001b[0m",
      "\u001b[1;31mValueError\u001b[0m                                Traceback (most recent call last)",
      "Cell \u001b[1;32mIn[35], line 31\u001b[0m\n\u001b[0;32m     28\u001b[0m             (startX, startY, endX, endY) \u001b[38;5;241m=\u001b[39m box\u001b[38;5;241m.\u001b[39mastype(\u001b[38;5;124m\"\u001b[39m\u001b[38;5;124mint\u001b[39m\u001b[38;5;124m\"\u001b[39m)\n\u001b[0;32m     29\u001b[0m             cv2\u001b[38;5;241m.\u001b[39mrectangle(frame, (startX, startY), (endX, endY), (\u001b[38;5;241m0\u001b[39m, \u001b[38;5;241m255\u001b[39m, \u001b[38;5;241m0\u001b[39m), \u001b[38;5;241m2\u001b[39m)\n\u001b[1;32m---> 31\u001b[0m     objects \u001b[38;5;241m=\u001b[39m \u001b[43mct\u001b[49m\u001b[38;5;241;43m.\u001b[39;49m\u001b[43mupdate\u001b[49m\u001b[43m(\u001b[49m\u001b[43mrects\u001b[49m\u001b[43m)\u001b[49m\n\u001b[0;32m     33\u001b[0m     cv2\u001b[38;5;241m.\u001b[39mimshow(\u001b[38;5;124m\"\u001b[39m\u001b[38;5;124mframe\u001b[39m\u001b[38;5;124m\"\u001b[39m, frame)\n\u001b[0;32m     35\u001b[0m cap\u001b[38;5;241m.\u001b[39mrelease()\n",
      "Cell \u001b[1;32mIn[32], line 58\u001b[0m, in \u001b[0;36mCentroidTracker.update\u001b[1;34m(self, rects)\u001b[0m\n\u001b[0;32m     56\u001b[0m \u001b[38;5;28mprint\u001b[39m(\u001b[38;5;124m\"\u001b[39m\u001b[38;5;124mexist:\u001b[39m\u001b[38;5;124m\"\u001b[39m ,objectCentroids); \u001b[38;5;28mprint\u001b[39m(\u001b[38;5;124m\"\u001b[39m\u001b[38;5;130;01m\\n\u001b[39;00m\u001b[38;5;124m\"\u001b[39m) \u001b[38;5;66;03m#############################################\u001b[39;00m\n\u001b[0;32m     57\u001b[0m \u001b[38;5;28mprint\u001b[39m(\u001b[38;5;124m\"\u001b[39m\u001b[38;5;124mnew:\u001b[39m\u001b[38;5;124m\"\u001b[39m, inputCentroids); \u001b[38;5;28mprint\u001b[39m(\u001b[38;5;124m\"\u001b[39m\u001b[38;5;130;01m\\n\u001b[39;00m\u001b[38;5;124m\"\u001b[39m)\n\u001b[1;32m---> 58\u001b[0m D \u001b[38;5;241m=\u001b[39m \u001b[43mdist\u001b[49m\u001b[38;5;241;43m.\u001b[39;49m\u001b[43mcdist\u001b[49m\u001b[43m(\u001b[49m\u001b[43mnp\u001b[49m\u001b[38;5;241;43m.\u001b[39;49m\u001b[43marray\u001b[49m\u001b[43m(\u001b[49m\u001b[43mobjectCentroids\u001b[49m\u001b[43m)\u001b[49m\u001b[43m,\u001b[49m\u001b[43m \u001b[49m\u001b[43minputCentroids\u001b[49m\u001b[43m)\u001b[49m\n\u001b[0;32m     59\u001b[0m \u001b[38;5;28mprint\u001b[39m(\u001b[38;5;124m\"\u001b[39m\u001b[38;5;124mD:\u001b[39m\u001b[38;5;124m\"\u001b[39m, D); \u001b[38;5;28mprint\u001b[39m(\u001b[38;5;124m\"\u001b[39m\u001b[38;5;130;01m\\n\u001b[39;00m\u001b[38;5;130;01m\\n\u001b[39;00m\u001b[38;5;124m\"\u001b[39m)\n\u001b[0;32m     60\u001b[0m rows \u001b[38;5;241m=\u001b[39m D\u001b[38;5;241m.\u001b[39mmin(axis\u001b[38;5;241m=\u001b[39m\u001b[38;5;241m1\u001b[39m)\u001b[38;5;241m.\u001b[39margsort()\n",
      "File \u001b[1;32m~\\AppData\\Local\\Programs\\Python\\Python39\\lib\\site-packages\\scipy\\spatial\\distance.py:2924\u001b[0m, in \u001b[0;36mcdist\u001b[1;34m(XA, XB, metric, out, **kwargs)\u001b[0m\n\u001b[0;32m   2921\u001b[0m sB \u001b[38;5;241m=\u001b[39m XB\u001b[38;5;241m.\u001b[39mshape\n\u001b[0;32m   2923\u001b[0m \u001b[38;5;28;01mif\u001b[39;00m \u001b[38;5;28mlen\u001b[39m(s) \u001b[38;5;241m!=\u001b[39m \u001b[38;5;241m2\u001b[39m:\n\u001b[1;32m-> 2924\u001b[0m     \u001b[38;5;28;01mraise\u001b[39;00m \u001b[38;5;167;01mValueError\u001b[39;00m(\u001b[38;5;124m'\u001b[39m\u001b[38;5;124mXA must be a 2-dimensional array.\u001b[39m\u001b[38;5;124m'\u001b[39m)\n\u001b[0;32m   2925\u001b[0m \u001b[38;5;28;01mif\u001b[39;00m \u001b[38;5;28mlen\u001b[39m(sB) \u001b[38;5;241m!=\u001b[39m \u001b[38;5;241m2\u001b[39m:\n\u001b[0;32m   2926\u001b[0m     \u001b[38;5;28;01mraise\u001b[39;00m \u001b[38;5;167;01mValueError\u001b[39;00m(\u001b[38;5;124m'\u001b[39m\u001b[38;5;124mXB must be a 2-dimensional array.\u001b[39m\u001b[38;5;124m'\u001b[39m)\n",
      "\u001b[1;31mValueError\u001b[0m: XA must be a 2-dimensional array."
     ]
    }
   ],
   "source": [
    "cap = cv2.VideoCapture(\"../video_input.mp4\")\n",
    "(H, W) = (None, None)\n",
    "\n",
    "# look over the frames from the video\n",
    "while True:\n",
    "    ret, frame = cap.read()\n",
    "    if not ret or cv2.waitKey(1)>=0:\n",
    "        break\n",
    "    \n",
    "    frame = imutils.resize(frame, width=400)\n",
    "    if W is None or H is None:\n",
    "        (H, W) = frame.shape[:2]\n",
    "    \n",
    "    blob = cv2.dnn.blobFromImage(frame, 1.0, (W, H), (104.0, 177.0, 123.0)) # mean-R, mean-G, mean-B\n",
    "    net.setInput(blob)\n",
    "    detections = net.forward()\n",
    "    rects = []\n",
    "    \n",
    "    # loop over the detections\n",
    "    for i in range(0, detections.shape[2]):\n",
    "        # over the confidence\n",
    "        if detections[0, 0, i, 2] > confidence:\n",
    "            # compute the coordinates of the bounding box for the object,\n",
    "            # then update the bounding box rectangles list\n",
    "            box = detections[0, 0, i, 3:7] * np.array([W, H, W, H])\n",
    "            rects.append(box.astype(\"int\"))\n",
    "            # draw a bounding box surrounding the object\n",
    "            (startX, startY, endX, endY) = box.astype(\"int\")\n",
    "            cv2.rectangle(frame, (startX, startY), (endX, endY), (0, 255, 0), 2)\n",
    "    \n",
    "    objects = ct.update(rects)\n",
    "    \n",
    "    cv2.imshow(\"frame\", frame)\n",
    "\n",
    "cap.release()\n",
    "cv2.destroyAllWindows()"
   ]
  },
  {
   "cell_type": "code",
   "execution_count": 37,
   "id": "405d4a65",
   "metadata": {
    "scrolled": false
   },
   "outputs": [
    {
     "data": {
      "text/plain": [
       "OrderedDict([(0, array([316, 130])), (1, array([315, 146]))])"
      ]
     },
     "execution_count": 37,
     "metadata": {},
     "output_type": "execute_result"
    }
   ],
   "source": [
    "OrderedDict([(0, np.array([316, 130])), (1, np.array([315, 146]))])"
   ]
  },
  {
   "cell_type": "code",
   "execution_count": 40,
   "id": "4d57edce",
   "metadata": {},
   "outputs": [
    {
     "data": {
      "text/plain": [
       "[array([316, 130]), array([315, 146])]"
      ]
     },
     "execution_count": 40,
     "metadata": {},
     "output_type": "execute_result"
    }
   ],
   "source": [
    "old = [np.array([316,130]), np.array([315,146])]\n",
    "old"
   ]
  },
  {
   "cell_type": "code",
   "execution_count": 48,
   "id": "7deded82",
   "metadata": {},
   "outputs": [
    {
     "data": {
      "text/plain": [
       "array([[316, 130],\n",
       "       [315, 146]])"
      ]
     },
     "execution_count": 48,
     "metadata": {},
     "output_type": "execute_result"
    }
   ],
   "source": [
    "np.array(old)"
   ]
  },
  {
   "cell_type": "code",
   "execution_count": 52,
   "id": "58b929a0",
   "metadata": {},
   "outputs": [
    {
     "data": {
      "text/plain": [
       "array([[316, 130],\n",
       "       [315, 146]])"
      ]
     },
     "execution_count": 52,
     "metadata": {},
     "output_type": "execute_result"
    }
   ],
   "source": [
    "new = np.array([[316,130], [315,146]])\n",
    "new"
   ]
  },
  {
   "cell_type": "code",
   "execution_count": 53,
   "id": "f5112eb2",
   "metadata": {},
   "outputs": [
    {
     "data": {
      "text/plain": [
       "array([[ 0.        , 16.03121954],\n",
       "       [16.03121954,  0.        ]])"
      ]
     },
     "execution_count": 53,
     "metadata": {},
     "output_type": "execute_result"
    }
   ],
   "source": [
    "dist.cdist(np.array(old), new)"
   ]
  },
  {
   "cell_type": "code",
   "execution_count": null,
   "id": "4405762d",
   "metadata": {},
   "outputs": [],
   "source": []
  },
  {
   "cell_type": "code",
   "execution_count": null,
   "id": "e54d96c5",
   "metadata": {},
   "outputs": [],
   "source": []
  },
  {
   "cell_type": "code",
   "execution_count": 23,
   "id": "85015ed7",
   "metadata": {
    "scrolled": true
   },
   "outputs": [
    {
     "ename": "NameError",
     "evalue": "name 'array' is not defined",
     "output_type": "error",
     "traceback": [
      "\u001b[1;31m---------------------------------------------------------------------------\u001b[0m",
      "\u001b[1;31mNameError\u001b[0m                                 Traceback (most recent call last)",
      "Cell \u001b[1;32mIn[23], line 1\u001b[0m\n\u001b[1;32m----> 1\u001b[0m [\u001b[43marray\u001b[49m([[\u001b[38;5;241m316\u001b[39m, \u001b[38;5;241m130\u001b[39m],[\u001b[38;5;241m315\u001b[39m, \u001b[38;5;241m146\u001b[39m]]), array([[\u001b[38;5;241m316\u001b[39m, \u001b[38;5;241m130\u001b[39m],[\u001b[38;5;241m315\u001b[39m, \u001b[38;5;241m146\u001b[39m]])]\n",
      "\u001b[1;31mNameError\u001b[0m: name 'array' is not defined"
     ]
    }
   ],
   "source": [
    "[array([[316, 130],[315, 146]]), array([[316, 130],[315, 146]])]"
   ]
  },
  {
   "cell_type": "code",
   "execution_count": 118,
   "id": "05b21da4",
   "metadata": {
    "scrolled": true
   },
   "outputs": [
    {
     "data": {
      "text/plain": [
       "(1, 1, 100, 7)"
      ]
     },
     "execution_count": 118,
     "metadata": {},
     "output_type": "execute_result"
    }
   ],
   "source": [
    "detections.shape"
   ]
  },
  {
   "cell_type": "code",
   "execution_count": null,
   "id": "5b913fab",
   "metadata": {},
   "outputs": [],
   "source": []
  },
  {
   "cell_type": "code",
   "execution_count": null,
   "id": "9dc986db",
   "metadata": {},
   "outputs": [],
   "source": []
  },
  {
   "cell_type": "markdown",
   "id": "21aa2e3e",
   "metadata": {},
   "source": [
    "## Creating a trackable object"
   ]
  },
  {
   "cell_type": "code",
   "execution_count": 1,
   "id": "2be0f18b",
   "metadata": {},
   "outputs": [],
   "source": [
    "class TrackableObject:\n",
    "    def __init__(self, objectID, centroid):\n",
    "        # store the object ID and initialize a list of centroid location history\n",
    "        self.objectID = objectID\n",
    "        self.centroids = [centroid]\n",
    "        \n",
    "        # check if the object has already been counted or not\n",
    "        self.counted = False"
   ]
  },
  {
   "cell_type": "code",
   "execution_count": null,
   "id": "90a43ee0",
   "metadata": {},
   "outputs": [],
   "source": []
  },
  {
   "cell_type": "code",
   "execution_count": null,
   "id": "3255c04c",
   "metadata": {},
   "outputs": [],
   "source": []
  }
 ],
 "metadata": {
  "kernelspec": {
   "display_name": "Python 3 (ipykernel)",
   "language": "python",
   "name": "python3"
  },
  "language_info": {
   "codemirror_mode": {
    "name": "ipython",
    "version": 3
   },
   "file_extension": ".py",
   "mimetype": "text/x-python",
   "name": "python",
   "nbconvert_exporter": "python",
   "pygments_lexer": "ipython3",
   "version": "3.9.6"
  }
 },
 "nbformat": 4,
 "nbformat_minor": 5
}
